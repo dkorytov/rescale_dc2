{
 "cells": [
  {
   "cell_type": "code",
   "execution_count": 1,
   "metadata": {},
   "outputs": [],
   "source": [
    "%matplotlib inline"
   ]
  },
  {
   "cell_type": "code",
   "execution_count": 2,
   "metadata": {},
   "outputs": [],
   "source": [
    "def nearest_neighbor_mask(x, xc):\n",
    "    xdist = np.abs(x - xc)\n",
    "    return np.argsort(xdist)"
   ]
  },
  {
   "cell_type": "code",
   "execution_count": 3,
   "metadata": {},
   "outputs": [],
   "source": [
    "from rescale_dc2.load_catalogs import load_closest_available_umachine_catalog\n",
    "umachine_z0 = load_closest_available_umachine_catalog(0.)\n",
    "umachine_z1 = load_closest_available_umachine_catalog(1.)"
   ]
  },
  {
   "cell_type": "code",
   "execution_count": 4,
   "metadata": {},
   "outputs": [
    {
     "name": "stdout",
     "output_type": "stream",
     "text": [
      "['totalLuminositiesStellar:SDSS_r:observed', 'diskLuminositiesStellar:SDSS_r:observed', 'spheroidLuminositiesStellar:SDSS_r:observed', 'totalLuminositiesStellar:SDSS_g:observed', 'diskLuminositiesStellar:SDSS_g:observed', 'spheroidLuminositiesStellar:SDSS_g:observed', 'infallHaloMass', 'hostHaloMass', 'hostIndex', 'isCentral', 'spheroidMassStellar', 'totalMassStellar', 'galaxyID', 'x', 'y', 'z', 'vx', 'vy', 'vz', 'totalStarFormationRate', 'mstar_percentile_fixed_infallHaloMass']\n"
     ]
    }
   ],
   "source": [
    "import os\n",
    "dirname = \"/Users/aphearin/Dropbox/protoDC2\"\n",
    "sdss_basename = \"volume_complete_sdss.hdf5\"\n",
    "protoDC2_basename = \"value_added_protoDC2_snapnum_487.hdf5\"\n",
    "\n",
    "from astropy.table import Table\n",
    "sdss = Table.read(os.path.join(dirname, sdss_basename), path='data')\n",
    "protoDC2_z0 = Table.read(os.path.join(dirname, protoDC2_basename), path='data')\n",
    "\n",
    "print(protoDC2_z0.keys())"
   ]
  },
  {
   "cell_type": "code",
   "execution_count": 5,
   "metadata": {},
   "outputs": [],
   "source": [
    "def compute_log10_ssfr_protoDC2(catalog, quenched_sequence_center=-13.5):\n",
    "    ssfr = catalog['totalStarFormationRate']/catalog['totalMassStellar']\n",
    "    zero_mask = ssfr == 0.\n",
    "    nzeros = np.count_nonzero(zero_mask)\n",
    "    ssfr[zero_mask] = 10**np.random.normal(loc=quenched_sequence_center, scale=0.2, size=nzeros)\n",
    "    return np.log10(ssfr)-9.\n",
    "\n",
    "protoDC2_z0['ssfr'] = compute_log10_ssfr_protoDC2(protoDC2_z0)"
   ]
  },
  {
   "cell_type": "code",
   "execution_count": 11,
   "metadata": {},
   "outputs": [],
   "source": [
    "from halotools.empirical_models import conditional_abunmatch\n",
    "\n",
    "protoDC2_z0['remapped_ssfr'] = protoDC2_z0['ssfr']\n",
    "\n",
    "cenmask_um = umachine_z0['upid'] == -1\n",
    "satmask_um = ~cenmask_um\n",
    "\n",
    "cenmask_dc2 = protoDC2_z0['isCentral']\n",
    "satmask_dc2 = ~protoDC2_z0['isCentral']\n",
    "\n",
    "logsm_bins=np.linspace(9, 12, 25)\n",
    "for low_sm, high_sm in zip(logsm_bins[:-1], logsm_bins[1:]):\n",
    "    sm_mask_dc2 = protoDC2_z0['totalMassStellar'] > 10**low_sm\n",
    "    sm_mask_dc2 *= protoDC2_z0['totalMassStellar'] < 10**high_sm\n",
    "    cenmask_dc2 = sm_mask_dc2 * (protoDC2_z0['isCentral']==True)\n",
    "    satmask_dc2 = sm_mask_dc2 * (protoDC2_z0['isCentral']==False)\n",
    "\n",
    "\n",
    "    mid_sm = 0.5*(low_sm + high_sm)\n",
    "    idx_censelect = nearest_neighbor_mask(umachine_z0['obs_sm'][cenmask_um], 10**mid_sm)\n",
    "    idx_satselect = nearest_neighbor_mask(umachine_z0['obs_sm'][satmask_um], 10**mid_sm)\n",
    "    \n",
    "    um_ssfr_cens = umachine_z0['obs_ssfr'][cenmask_um][idx_censelect[:1000]]\n",
    "    ssfr_cens = conditional_abunmatch(protoDC2_z0['ssfr'][cenmask_dc2], um_ssfr_cens)\n",
    "\n",
    "    um_ssfr_sats = umachine_z0['obs_ssfr'][satmask_um][idx_satselect[:1000]]\n",
    "    ssfr_sats = conditional_abunmatch(protoDC2_z0['ssfr'][satmask_dc2], um_ssfr_sats)\n",
    "\n",
    "\n",
    "    protoDC2_z0['remapped_ssfr'][cenmask_dc2] = ssfr_cens\n",
    "    protoDC2_z0['remapped_ssfr'][satmask_dc2] = ssfr_sats\n"
   ]
  },
  {
   "cell_type": "code",
   "execution_count": 15,
   "metadata": {},
   "outputs": [
    {
     "data": {
      "image/png": "[encoded data removed]",
      "text/plain": [
       "<matplotlib.figure.Figure at 0x12a23b690>"
      ]
     },
     "metadata": {},
     "output_type": "display_data"
    }
   ],
   "source": [
    "low_sm, high_sm = 10, 10.25\n",
    "sm_mask = protoDC2_z0['totalMassStellar'] > 10**low_sm\n",
    "sm_mask *= protoDC2_z0['totalMassStellar'] < 10**high_sm\n",
    "\n",
    "sm_mask2 = umachine_z0['obs_sm'] > 10**low_sm\n",
    "sm_mask2 *= umachine_z0['obs_sm'] < 10**high_sm\n",
    "\n",
    "\n",
    "fig, ax = plt.subplots(1, 1)\n",
    "\n",
    "__=ax.hist(protoDC2_z0['ssfr'][sm_mask], normed=True, alpha=0.8, bins=100, \n",
    "          label=r'${\\rm Galacticus}$')\n",
    "__=ax.hist(umachine_z0['obs_ssfr'][sm_mask2], normed=True, alpha=0.8, bins=100, \n",
    "           label=r'${\\rm UniverseMachine}$')\n",
    "__=ax.hist(protoDC2_z0['remapped_ssfr'][sm_mask], normed=True, alpha=0.8, bins=100, \n",
    "           label=r'${\\rm rescaled\\ Galacticus}$')\n",
    "xlabel = ax.set_xlabel(r'$\\log_{10}{\\rm sSFR}\\ [{\\rm yr}^{-1}]$')\n",
    "ylabel = ax.set_ylabel(r'${\\rm PDF}$')\n",
    "legend = ax.legend()\n",
    "xlim = ax.set_xlim(-15.5, -8)\n",
    "ylim = ax.set_ylim(0, 1.25)\n",
    "title = ax.set_title(r'$10 < \\log_{10}M_{\\ast}/M_{\\odot} < 10.5$')\n",
    "\n",
    "figname = 'ssfr_distribution_comparison_10p5.pdf'\n",
    "fig.savefig(figname, bbox_extra_artists=[xlabel, ylabel], bbox_inches='tight')"
   ]
  },
  {
   "cell_type": "code",
   "execution_count": null,
   "metadata": {},
   "outputs": [],
   "source": [
    "from halotools.empirical_models import conditional_abunmatch\n",
    "\n",
    "low_sm, high_sm = 10, 10.25\n",
    "\n",
    "sm_mask2 = umachine_z0['obs_sm'] > 10**low_sm\n",
    "sm_mask2 *= umachine_z0['obs_sm'] < 10**high_sm\n",
    "\n",
    "data = umachine_z0['obs_ssfr'][sm_mask2]\n",
    "\n",
    "num_halos = int(1e4)\n",
    "uran = np.random.rand(num_halos)\n",
    "mock = conditional_abunmatch(uran, data)\n",
    "\n",
    "fig, ax = plt.subplots(1, 1)\n",
    "\n",
    "__=ax.hist(data, bins=150, normed=True, alpha=0.8)\n",
    "__=ax.hist(mock, bins=150, normed=True, alpha=0.8)"
   ]
  },
  {
   "cell_type": "code",
   "execution_count": null,
   "metadata": {},
   "outputs": [],
   "source": []
  },
  {
   "cell_type": "code",
   "execution_count": null,
   "metadata": {},
   "outputs": [],
   "source": [
    "from halotools.empirical_models import conditional_abunmatch\n",
    "\n",
    "remapped_ssfr = np.zeros(len(protoDC2_z0))\n",
    "logsm_bins=np.linspace(9, 12, 25)\n",
    "for lowsm, highsm in zip(logsm_bins[:-1], logsm_bins[1:]):\n",
    "    sm_mask_um = umachine_z0['obs_sm'] > 10**low_sm\n",
    "    sm_mask_um *= umachine_z0['obs_sm'] < 10**high_sm\n",
    "    cenmask_um = sm_mask_um * (umachine_z0['upid']==-1)\n",
    "    satmask_um = sm_mask_um * (umachine_z0['upid']!=-1)\n",
    "\n",
    "    sm_mask_dc2 = protoDC2_z0['totalMassStellar'] > 10**low_sm\n",
    "    sm_mask_dc2 *= protoDC2_z0['totalMassStellar'] < 10**high_sm\n",
    "    cenmask_dc2 = sm_mask_dc2 * (protoDC2_z0['isCentral']==True)\n",
    "    satmask_dc2 = sm_mask_dc2 * (protoDC2_z0['isCentral']==False)\n",
    "    \n",
    "    ssfr_cens = conditional_abunmatch(protoDC2_z0['ssfr'][cenmask_dc2], \n",
    "                                      umachine_z0['obs_ssfr'][cenmask_um])\n",
    "    ssfr_sats = conditional_abunmatch(protoDC2_z0['ssfr'][satmask_dc2], \n",
    "                                      umachine_z0['obs_ssfr'][satmask_um])\n",
    "    remapped_ssfr[cenmask_dc2] = ssfr_cens\n",
    "    remapped_ssfr[satmask_dc2] = ssfr_sats\n",
    "\n",
    "protoDC2_z0['ssfr'] = remapped_ssfr"
   ]
  },
  {
   "cell_type": "code",
   "execution_count": null,
   "metadata": {},
   "outputs": [],
   "source": [
    "\n"
   ]
  },
  {
   "cell_type": "code",
   "execution_count": null,
   "metadata": {},
   "outputs": [],
   "source": []
  }
 ],
 "metadata": {
  "kernelspec": {
   "display_name": "Python [conda root]",
   "language": "python",
   "name": "conda-root-py"
  },
  "language_info": {
   "codemirror_mode": {
    "name": "ipython",
    "version": 2
   },
   "file_extension": ".py",
   "mimetype": "text/x-python",
   "name": "python",
   "nbconvert_exporter": "python",
   "pygments_lexer": "ipython2",
   "version": "2.7.14"
  }
 },
 "nbformat": 4,
 "nbformat_minor": 2
}
