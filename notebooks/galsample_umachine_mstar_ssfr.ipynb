{
 "cells": [
  {
   "cell_type": "code",
   "execution_count": 1,
   "metadata": {},
   "outputs": [],
   "source": [
    "%matplotlib inline"
   ]
  },
  {
   "cell_type": "code",
   "execution_count": 2,
   "metadata": {},
   "outputs": [
    {
     "name": "stdout",
     "output_type": "stream",
     "text": [
      "['magnitude:SDSS_u:rest', 'magnitude:SDSS_g:rest', 'magnitude:SDSS_r:rest', 'magnitude:SDSS_i:rest', 'magnitude:SDSS_z:rest', 'infallHaloMass', 'hostHaloMass', 'hostIndex', 'isCentral', 'spheroidMassStellar', 'totalMassStellar', 'galaxyID', 'x', 'y', 'z', 'vx', 'vy', 'vz', 'totalStarFormationRate', 'totalStarFormationRate_percentile_fixed_totalMassStellar']\n",
      "\n",
      "\n",
      "['id', 'x', 'y', 'z', 'vx', 'vy', 'vz', 'obs_sm', 'obs_sfr', 'mpeak', 'mvir', 'vmax', 'vmax_at_mpeak', 'upid', 'hostid', 'host_halo_is_in_catalog', 'host_halo_mvir', 'host_halo_vmax', 'host_halo_x', 'host_halo_y', 'host_halo_z', 'host_halo_vx', 'host_halo_vy', 'host_halo_vz', 'obs_ssfr', 'host_centric_x', 'host_centric_y', 'host_centric_z', 'host_centric_vx', 'host_centric_vy', 'host_centric_vz']\n"
     ]
    }
   ],
   "source": [
    "import os\n",
    "dirname = \"/Users/aphearin/Dropbox/protoDC2\"\n",
    "sdss_basename = \"volume_complete_sdss.hdf5\"\n",
    "umachine_z0_basename = \"value_added_umachine_sfr_catalog_1.002310.hdf5\"\n",
    "protoDC2_basename = \"value_added_protoDC2_snapnum_487.hdf5\"\n",
    "\n",
    "from astropy.table import Table\n",
    "sdss = Table.read(os.path.join(dirname, sdss_basename), path='data')\n",
    "protoDC2_z0 = Table.read(os.path.join(dirname, protoDC2_basename), path='data')\n",
    "\n",
    "pdc2_cenmask = protoDC2_z0['isCentral'] == 1\n",
    "\n",
    "from rescale_dc2.load_catalogs import load_closest_available_umachine_catalog\n",
    "umachine_z0 = load_closest_available_umachine_catalog(0.)\n",
    "um_cenmask = umachine_z0['upid'] == -1\n",
    "\n",
    "print(protoDC2_z0.keys())\n",
    "print(\"\\n\")\n",
    "print(umachine_z0.keys())"
   ]
  },
  {
   "cell_type": "code",
   "execution_count": 3,
   "metadata": {},
   "outputs": [
    {
     "data": {
      "image/png": "[encoded data removed]",
      "text/plain": [
       "<matplotlib.figure.Figure at 0x1306a2050>"
      ]
     },
     "metadata": {},
     "output_type": "display_data"
    }
   ],
   "source": [
    "fig, ax = plt.subplots(1, 1)\n",
    "\n",
    "log_mhost_bins = np.linspace(10, 15, 50)\n",
    "\n",
    "__=ax.hist(np.log10(protoDC2_z0['hostHaloMass'][pdc2_cenmask]), bins=log_mhost_bins, \n",
    "          normed=True, alpha=0.8, color='orange')\n",
    "__=ax.hist(np.log10(umachine_z0['host_halo_mvir'][um_cenmask]), bins=log_mhost_bins, \n",
    "          normed=True, alpha=0.8, color='green')"
   ]
  },
  {
   "cell_type": "code",
   "execution_count": 4,
   "metadata": {},
   "outputs": [
    {
     "name": "stdout",
     "output_type": "stream",
     "text": [
      "['host_halo_id', 'source_host_halo_id', 'source_galaxy_id', 'mstar', 'ssfr', 'host_centric_x', 'host_centric_y', 'host_centric_z', 'host_centric_vx', 'host_centric_vy', 'host_centric_vz']\n"
     ]
    }
   ],
   "source": [
    "from galsampler import halo_bin_indices\n",
    "\n",
    "protoDC2_z0['bin_number'] = halo_bin_indices(\n",
    "    logmass=(np.log10(protoDC2_z0['hostHaloMass']), log_mhost_bins))\n",
    "umachine_z0['bin_number'] = halo_bin_indices(\n",
    "    logmass=(np.log10(umachine_z0['host_halo_mvir']), log_mhost_bins))\n",
    "\n",
    "from galsampler import source_galaxy_selection_indices\n",
    "\n",
    "source_galaxies_host_halo_id = umachine_z0['hostid']\n",
    "source_halos_bin_number = umachine_z0['bin_number'][um_cenmask]\n",
    "source_halos_halo_id = umachine_z0['id'][um_cenmask]\n",
    "target_halos_bin_number = protoDC2_z0['bin_number'][pdc2_cenmask]\n",
    "target_halo_ids = protoDC2_z0['hostIndex'][pdc2_cenmask]\n",
    "nhalo_min = 25\n",
    "\n",
    "result = source_galaxy_selection_indices(source_galaxies_host_halo_id,\n",
    "            source_halos_bin_number, source_halos_halo_id,\n",
    "            target_halos_bin_number, target_halo_ids, nhalo_min, log_mhost_bins)\n",
    "\n",
    "selection_indices, target_galaxy_target_halo_ids, target_galaxy_source_halo_ids = result\n",
    "\n",
    "ngals_target = len(selection_indices)\n",
    "\n",
    "from astropy.table import Table\n",
    "dc2 = Table()\n",
    "\n",
    "dc2['host_halo_id'] = target_galaxy_target_halo_ids\n",
    "dc2['source_host_halo_id'] = target_galaxy_source_halo_ids\n",
    "\n",
    "dc2['source_galaxy_id'] = umachine_z0['id'][selection_indices]\n",
    "dc2['mstar'] = umachine_z0['obs_sm'][selection_indices]\n",
    "dc2['ssfr'] = umachine_z0['obs_ssfr'][selection_indices]\n",
    "\n",
    "posvel_keys = ('x', 'y', 'z', 'vx', 'vy', 'vz')\n",
    "for key in posvel_keys:\n",
    "    dc2['host_centric_'+key] = umachine_z0['host_centric_'+key][selection_indices]\n",
    "\n",
    "print(dc2.keys())"
   ]
  },
  {
   "cell_type": "code",
   "execution_count": 5,
   "metadata": {},
   "outputs": [],
   "source": [
    "from halotools.utils import crossmatch \n",
    "\n",
    "idxA, idxB = crossmatch(dc2['host_halo_id'], protoDC2_z0['hostIndex'][pdc2_cenmask])\n",
    "\n",
    "posvel_keys = ('x', 'y', 'z', 'vx', 'vy', 'vz')\n",
    "for key in posvel_keys:\n",
    "    dc2['host_'+key] = 0.\n",
    "    dc2['host_'+key][idxA] = protoDC2_z0[key][idxB]\n",
    "\n",
    "    dc2[key] = dc2['host_'+key] + dc2['host_centric_'+key]\n"
   ]
  },
  {
   "cell_type": "code",
   "execution_count": 6,
   "metadata": {},
   "outputs": [],
   "source": [
    "from halotools.empirical_models import enforce_periodicity_of_box\n",
    "\n",
    "for key in ('x', 'y', 'z'):\n",
    "    dc2[key], dc2['v'+key] = enforce_periodicity_of_box(dc2[key], 256., velocity=dc2['v'+key])"
   ]
  },
  {
   "cell_type": "code",
   "execution_count": 7,
   "metadata": {},
   "outputs": [],
   "source": [
    "from halotools.mock_observables import return_xyz_formatted_array, tpcf\n",
    "\n",
    "m1, m2, m3, m4 = 9.5, 10, 10.5, 11\n",
    "\n",
    "dc2_mask1 = dc2['mstar'] > 10**m1\n",
    "dc2_mask2 = dc2['mstar'] > 10**m2\n",
    "dc2_mask3 = dc2['mstar'] > 10**m3\n",
    "dc2_mask4 = dc2['mstar'] > 10**m4\n",
    "\n",
    "um_mask1 = umachine_z0['obs_sm'] > 10**m1\n",
    "um_mask2 = umachine_z0['obs_sm'] > 10**m2\n",
    "um_mask3 = umachine_z0['obs_sm'] > 10**m3\n",
    "um_mask4 = umachine_z0['obs_sm'] > 10**m4\n",
    "\n",
    "dc2_pos1 = return_xyz_formatted_array(dc2['x'], dc2['y'], dc2['z'], mask=dc2_mask1)\n",
    "dc2_pos2 = return_xyz_formatted_array(dc2['x'], dc2['y'], dc2['z'], mask=dc2_mask2)\n",
    "dc2_pos3 = return_xyz_formatted_array(dc2['x'], dc2['y'], dc2['z'], mask=dc2_mask3)\n",
    "dc2_pos4 = return_xyz_formatted_array(dc2['x'], dc2['y'], dc2['z'], mask=dc2_mask4)\n",
    "\n",
    "um_pos1 = return_xyz_formatted_array(\n",
    "    umachine_z0['x'], umachine_z0['y'], umachine_z0['z'], mask=um_mask1)\n",
    "um_pos2 = return_xyz_formatted_array(\n",
    "    umachine_z0['x'], umachine_z0['y'], umachine_z0['z'], mask=um_mask2)\n",
    "um_pos3 = return_xyz_formatted_array(\n",
    "    umachine_z0['x'], umachine_z0['y'], umachine_z0['z'], mask=um_mask3)\n",
    "um_pos4 = return_xyz_formatted_array(\n",
    "    umachine_z0['x'], umachine_z0['y'], umachine_z0['z'], mask=um_mask4)\n",
    "\n"
   ]
  },
  {
   "cell_type": "code",
   "execution_count": 10,
   "metadata": {},
   "outputs": [],
   "source": [
    "log_rbins = np.linspace(-1, 1.3, 25)\n",
    "rbins = 10**log_rbins\n",
    "rmids = 10**(0.5*(log_rbins[:-1] + log_rbins[1:]))"
   ]
  },
  {
   "cell_type": "code",
   "execution_count": 8,
   "metadata": {},
   "outputs": [
    {
     "name": "stdout",
     "output_type": "stream",
     "text": [
      "runtime = 33.84 seconds\n"
     ]
    }
   ],
   "source": [
    "from halotools.mock_observables import tpcf\n",
    "\n",
    "from time import time \n",
    "\n",
    "start = time()\n",
    "\n",
    "xi_dc2_m1 = tpcf(dc2_pos1, rbins, period=256.)\n",
    "xi_dc2_m2 = tpcf(dc2_pos2, rbins, period=256.)\n",
    "xi_dc2_m3 = tpcf(dc2_pos3, rbins, period=256.)\n",
    "xi_dc2_m4 = tpcf(dc2_pos4, rbins, period=256.)\n",
    "\n",
    "end = time()\n",
    "print(\"runtime = {0:.2f} seconds\".format(end-start))"
   ]
  },
  {
   "cell_type": "code",
   "execution_count": 9,
   "metadata": {},
   "outputs": [
    {
     "name": "stdout",
     "output_type": "stream",
     "text": [
      "runtime = 21.50 seconds\n"
     ]
    }
   ],
   "source": [
    "start = time()\n",
    "\n",
    "xi_um_m1 = tpcf(um_pos1, rbins, period=250.)\n",
    "xi_um_m2 = tpcf(um_pos2, rbins, period=250.)\n",
    "xi_um_m3 = tpcf(um_pos3, rbins, period=250.)\n",
    "xi_um_m4 = tpcf(um_pos4, rbins, period=250.)\n",
    "\n",
    "end = time()\n",
    "print(\"runtime = {0:.2f} seconds\".format(end-start))"
   ]
  },
  {
   "cell_type": "code",
   "execution_count": 13,
   "metadata": {},
   "outputs": [
    {
     "data": {
      "image/png": "[encoded data removed]",
      "text/plain": [
       "<matplotlib.figure.Figure at 0x11a2fe7d0>"
      ]
     },
     "metadata": {},
     "output_type": "display_data"
    }
   ],
   "source": [
    "fig, ax = plt.subplots(1, 1)\n",
    "\n",
    "__=ax.loglog()\n",
    "\n",
    "__=ax.plot(rmids, xi_um_m1, label=r'$M_{\\ast} > 10^{9.5}M_{\\odot}$')\n",
    "__=ax.plot(rmids, xi_um_m2, label=r'$M_{\\ast} > 10^{10}M_{\\odot}$')\n",
    "__=ax.plot(rmids, xi_um_m3, label=r'$M_{\\ast} > 10^{10.5}M_{\\odot}$')\n",
    "__=ax.plot(rmids, xi_um_m4, label=r'$M_{\\ast} > 10^{11}M_{\\odot}$')"
   ]
  },
  {
   "cell_type": "code",
   "execution_count": 30,
   "metadata": {},
   "outputs": [
    {
     "data": {
      "image/png": "[encoded data removed]",
      "text/plain": [
       "<matplotlib.figure.Figure at 0x12dcafb10>"
      ]
     },
     "metadata": {},
     "output_type": "display_data"
    }
   ],
   "source": [
    "fracdiff_um_m2_by_m1 = (xi_um_m2 - xi_um_m1)/xi_um_m1\n",
    "fracdiff_um_m3_by_m1 = (xi_um_m3 - xi_um_m1)/xi_um_m1\n",
    "fracdiff_um_m4_by_m1 = (xi_um_m4 - xi_um_m1)/xi_um_m1\n",
    "\n",
    "fracdiff_dc2_m2_by_m1 = (xi_dc2_m2 - xi_dc2_m1)/xi_dc2_m1\n",
    "fracdiff_dc2_m3_by_m1 = (xi_dc2_m3 - xi_dc2_m1)/xi_dc2_m1\n",
    "fracdiff_dc2_m4_by_m1 = (xi_dc2_m4 - xi_dc2_m1)/xi_dc2_m1\n",
    "\n",
    "fig, ax = plt.subplots(1, 1)\n",
    "\n",
    "xscale = ax.set_xscale('log')\n",
    "\n",
    "xlim = ax.set_xlim(0.1, 30)\n",
    "\n",
    "__=ax.plot(np.logspace(-3, 3, 100), np.zeros(100), ':', color='k')\n",
    "__=ax.plot(rmids, fracdiff_um_m2_by_m1, color='blue')\n",
    "__=ax.plot(rmids, fracdiff_um_m3_by_m1, color='green')\n",
    "__=ax.plot(rmids, fracdiff_um_m4_by_m1, color='red')\n",
    "\n",
    "__=ax.plot(rmids, fracdiff_dc2_m2_by_m1, '--', color='blue')\n",
    "__=ax.plot(rmids, fracdiff_dc2_m3_by_m1, '--', color='green')\n",
    "__=ax.plot(rmids, fracdiff_dc2_m4_by_m1, '--', color='red')\n",
    "\n",
    "ylim = ax.set_ylim(-0.5, 4)"
   ]
  },
  {
   "cell_type": "code",
   "execution_count": null,
   "metadata": {},
   "outputs": [],
   "source": []
  },
  {
   "cell_type": "code",
   "execution_count": null,
   "metadata": {},
   "outputs": [],
   "source": []
  },
  {
   "cell_type": "code",
   "execution_count": null,
   "metadata": {},
   "outputs": [],
   "source": []
  }
 ],
 "metadata": {
  "kernelspec": {
   "display_name": "Python [conda root]",
   "language": "python",
   "name": "conda-root-py"
  },
  "language_info": {
   "codemirror_mode": {
    "name": "ipython",
    "version": 2
   },
   "file_extension": ".py",
   "mimetype": "text/x-python",
   "name": "python",
   "nbconvert_exporter": "python",
   "pygments_lexer": "ipython2",
   "version": "2.7.14"
  }
 },
 "nbformat": 4,
 "nbformat_minor": 2
}
