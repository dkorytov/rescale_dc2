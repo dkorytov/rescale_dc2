{
 "cells": [
  {
   "cell_type": "code",
   "execution_count": 1,
   "metadata": {},
   "outputs": [],
   "source": [
    "%matplotlib inline"
   ]
  },
  {
   "cell_type": "markdown",
   "metadata": {},
   "source": [
    "### Load Meert+15 catalog"
   ]
  },
  {
   "cell_type": "code",
   "execution_count": 2,
   "metadata": {},
   "outputs": [
    {
     "name": "stdout",
     "output_type": "stream",
     "text": [
      "['objid', 'z', 'ra', 'dec', 'kcorr', 'bulge_to_total_rband', 'r50_magr_kpc', 'r50_magr_disk_kpc', 'r50_magr_bulge_kpc']\n"
     ]
    }
   ],
   "source": [
    "from rescale_dc2.load_catalogs import read_meert_catalog\n",
    "meert15 = read_meert_catalog()\n",
    "print(meert15.keys())"
   ]
  },
  {
   "cell_type": "markdown",
   "metadata": {},
   "source": [
    "### Load 5-band flux catalog"
   ]
  },
  {
   "cell_type": "code",
   "execution_count": 3,
   "metadata": {},
   "outputs": [
    {
     "name": "stdout",
     "output_type": "stream",
     "text": [
      "['specObjID', 'objID', 'ra', 'dec', 'z', 'modelMag_u', 'modelMag_g', 'modelMag_r', 'modelMag_i', 'modelMag_z', 'extinction_u', 'extinction_g', 'extinction_r', 'extinction_i', 'extinction_z']\n"
     ]
    }
   ],
   "source": [
    "import numpy as np \n",
    "from astropy.table import Table\n",
    "import os\n",
    "dirname = \"/Users/aphearin/work/SDSS/dr7_five_fluxes\"\n",
    "basename1 = \"MyTable_1a_aphearin.csv\"\n",
    "fname1 = os.path.join(dirname, basename1)\n",
    "\n",
    "dr7 = Table.read(fname1, format='csv')\n",
    "dr7.sort('objID')\n",
    "\n",
    "unique_vals, indices = np.unique(dr7['objID'], return_index=True)\n",
    "\n",
    "dr7 = dr7[indices]\n",
    "\n",
    "dr7 = dr7[dr7['z']>0.01]\n",
    "print(dr7.keys())"
   ]
  },
  {
   "cell_type": "markdown",
   "metadata": {},
   "source": [
    "### Add Meert+15 keys to 5-band flux catalog by crossmatching on `objID`"
   ]
  },
  {
   "cell_type": "code",
   "execution_count": 4,
   "metadata": {},
   "outputs": [],
   "source": [
    "from halotools.utils import crossmatch \n",
    "\n",
    "idxA, idxB = crossmatch(dr7['objID'], meert15['objid'])\n",
    "\n",
    "meert_keys_to_inherit = ('kcorr', 'bulge_to_total_rband', 'r50_magr_kpc', \n",
    "                  'r50_magr_disk_kpc', 'r50_magr_bulge_kpc')\n",
    "\n",
    "for key in meert_keys_to_inherit:\n",
    "    dr7[key] = np.nan\n",
    "    dr7[key][idxA] = meert15[key][idxB]"
   ]
  },
  {
   "cell_type": "markdown",
   "metadata": {},
   "source": [
    "### Load DR10 volume-limited catalog with $M_{\\ast}$ and ${\\rm sSFR}$"
   ]
  },
  {
   "cell_type": "code",
   "execution_count": 5,
   "metadata": {},
   "outputs": [],
   "source": [
    "dirname = \"/Users/aphearin/work/sdss/cross_matched_catalogs\"\n",
    "basename = \"umachine_sdss_dr10_value_added_bt_corrected_dr7_objID.hdf5\"\n",
    "dr10_fname = os.path.join(dirname, basename)\n",
    "\n",
    "dr10 = Table.read(dr10_fname, path='data')"
   ]
  },
  {
   "cell_type": "markdown",
   "metadata": {},
   "source": [
    "### Add Meert+15 keys and 5-band flux keys from dr7 to dr10"
   ]
  },
  {
   "cell_type": "code",
   "execution_count": 6,
   "metadata": {},
   "outputs": [],
   "source": [
    "bands = ('u', 'g', 'r', 'i', 'z')\n",
    "keys = ['extinction_'+band for band in bands]\n",
    "modelMag_keys = ['modelMag_'+band for band in bands]\n",
    "keys.extend(modelMag_keys)\n",
    "keys.extend(meert_keys_to_inherit)\n",
    "\n",
    "idxA, idxB = crossmatch(dr10['dr7_objID'], dr7['objID'])\n",
    "\n",
    "for key in keys:\n",
    "    dr10[key] = np.nan\n",
    "    dr10[key][idxA] = dr7[key][idxB]"
   ]
  },
  {
   "cell_type": "code",
   "execution_count": 7,
   "metadata": {},
   "outputs": [],
   "source": [
    "keys_to_delete = ('bptclass', 'specsfr', 'sm_fib', 'sfr_fib', 'specsfr_fib', 'withinr', \n",
    "                 'eligiblehost', 'eligiblehost2', 'd4000_sub', 'd4000_n_sub', 'logM_mendel13', \n",
    "                 'pps_mendel13', 'type_mendel13', 'deltaBD_mendel13', 'logMB_mendel13', \n",
    "                 'logMD_mendel13', 'd4000_n')\n",
    "for key in keys_to_delete:\n",
    "    del dr10[key]"
   ]
  },
  {
   "cell_type": "code",
   "execution_count": 8,
   "metadata": {},
   "outputs": [
    {
     "name": "stdout",
     "output_type": "stream",
     "text": [
      "['ra', 'dec', 'z', 'sm', 'sfr', 'sm_complete', 'd4000', 'd4000_n', 'has_match', 'dr7_objID', 'extinction_u', 'extinction_g', 'extinction_r', 'extinction_i', 'extinction_z', 'modelMag_u', 'modelMag_g', 'modelMag_r', 'modelMag_i', 'modelMag_z', 'kcorr', 'bulge_to_total_rband', 'r50_magr_kpc', 'r50_magr_disk_kpc', 'r50_magr_bulge_kpc']\n"
     ]
    }
   ],
   "source": [
    "print(dr10.keys())"
   ]
  },
  {
   "cell_type": "code",
   "execution_count": null,
   "metadata": {},
   "outputs": [],
   "source": []
  },
  {
   "cell_type": "code",
   "execution_count": null,
   "metadata": {},
   "outputs": [],
   "source": []
  },
  {
   "cell_type": "code",
   "execution_count": null,
   "metadata": {},
   "outputs": [],
   "source": []
  },
  {
   "cell_type": "code",
   "execution_count": null,
   "metadata": {},
   "outputs": [],
   "source": []
  }
 ],
 "metadata": {
  "kernelspec": {
   "display_name": "Python [conda root]",
   "language": "python",
   "name": "conda-root-py"
  },
  "language_info": {
   "codemirror_mode": {
    "name": "ipython",
    "version": 2
   },
   "file_extension": ".py",
   "mimetype": "text/x-python",
   "name": "python",
   "nbconvert_exporter": "python",
   "pygments_lexer": "ipython2",
   "version": "2.7.14"
  }
 },
 "nbformat": 4,
 "nbformat_minor": 2
}
