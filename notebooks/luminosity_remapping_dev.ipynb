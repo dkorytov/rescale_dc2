{
 "cells": [
  {
   "cell_type": "code",
   "execution_count": 1,
   "metadata": {},
   "outputs": [],
   "source": [
    "%matplotlib inline"
   ]
  },
  {
   "cell_type": "code",
   "execution_count": 2,
   "metadata": {},
   "outputs": [],
   "source": [
    "from rescale_dc2.rescale_snapshot import rescale_stellar_mass, rescale_ssfr"
   ]
  },
  {
   "cell_type": "code",
   "execution_count": 3,
   "metadata": {},
   "outputs": [],
   "source": [
    "import os\n",
    "dirname = \"/Users/aphearin/Dropbox/protoDC2\"\n",
    "\n",
    "from astropy.table import Table\n",
    "\n",
    "protoDC2_basename = \"value_added_protoDC2_snapnum_487.hdf5\"\n",
    "protoDC2_z0 = Table.read(os.path.join(dirname, protoDC2_basename), path='data')\n",
    "\n",
    "quenched_sequence_center = -13.5\n",
    "ssfr = protoDC2_z0['totalStarFormationRate']/protoDC2_z0['totalMassStellar']\n",
    "zero_mask = ssfr == 0.\n",
    "nzeros = np.count_nonzero(zero_mask)\n",
    "ssfr[zero_mask] = 10**np.random.normal(loc=quenched_sequence_center, scale=0.2, size=nzeros)\n",
    "protoDC2_z0['ssfr'] = np.log10(ssfr)-9.\n",
    "\n",
    "    \n",
    "from rescale_dc2.load_catalogs import load_closest_available_umachine_catalog\n",
    "umachine_z0 = load_closest_available_umachine_catalog(0.)\n"
   ]
  },
  {
   "cell_type": "code",
   "execution_count": 4,
   "metadata": {},
   "outputs": [],
   "source": [
    "rescaled_mstar_dc2 = rescale_stellar_mass(protoDC2_z0, umachine_z0)"
   ]
  },
  {
   "cell_type": "code",
   "execution_count": 5,
   "metadata": {},
   "outputs": [],
   "source": [
    "rescaled_ssfr_dc2 = rescale_ssfr(rescaled_mstar_dc2, umachine_z0)"
   ]
  },
  {
   "cell_type": "code",
   "execution_count": 6,
   "metadata": {},
   "outputs": [
    {
     "data": {
      "image/png": "[encoded data removed]",
      "text/plain": [
       "<matplotlib.figure.Figure at 0x118b76f90>"
      ]
     },
     "metadata": {},
     "output_type": "display_data"
    }
   ],
   "source": [
    "from rescale_dc2.load_catalogs import load_dc2_sdss\n",
    "sdss = load_dc2_sdss()\n",
    "\n",
    "from rescale_dc2.load_catalogs import sdss_completeness_redshift\n",
    "\n",
    "fig, axes = plt.subplots(2, 2, figsize=(8, 8))\n",
    "(ax1, ax2), (ax3, ax4) = axes\n",
    "\n",
    "ssfr_bins = np.linspace(-16, -8, 50)\n",
    "\n",
    "\n",
    "#  Upper-left panel\n",
    "low_sm, high_sm = 9.5, 10\n",
    "\n",
    "sm_mask_pdc2 = protoDC2_z0['totalMassStellar'] >= 10**low_sm\n",
    "sm_mask_pdc2 *= protoDC2_z0['totalMassStellar'] < 10**high_sm\n",
    "\n",
    "sm_mask_dc2 = rescaled_ssfr_dc2['rescaled_mstar'] >= 10**low_sm\n",
    "sm_mask_dc2 *= rescaled_ssfr_dc2['rescaled_mstar'] < 10**high_sm\n",
    "\n",
    "sm_mask_sdss = sdss['sm'] >= low_sm\n",
    "sm_mask_sdss *= sdss['sm'] < high_sm\n",
    "sm_mask_sdss *= sdss['z'] < sdss_completeness_redshift(low_sm)\n",
    "\n",
    "__=ax1.hist(protoDC2_z0['ssfr'][sm_mask_pdc2], normed=True, alpha=0.8, bins=ssfr_bins, \n",
    "          label=r'${\\rm protoDC2}$')\n",
    "__=ax1.hist(sdss['ssfr'][sm_mask_sdss], normed=True, alpha=0.8, bins=ssfr_bins, \n",
    "          label=r'${\\rm SDSS}$')\n",
    "__=ax1.hist(rescaled_ssfr_dc2['remapped_ssfr'][sm_mask_dc2], normed=True, alpha=0.8, bins=ssfr_bins, \n",
    "           label=r'${\\rm DC2}$')\n",
    "title1 = ax1.set_title(r'$9.5 < \\log M_{\\ast}/M_{\\odot} < 10$')\n",
    "__=ax1.xaxis.set_ticklabels('') \n",
    "\n",
    "\n",
    "# #  Upper-right panel\n",
    "low_sm, high_sm = 10, 10.5\n",
    "sm_mask_pdc2 = protoDC2_z0['totalMassStellar'] >= 10**low_sm\n",
    "sm_mask_pdc2 *= protoDC2_z0['totalMassStellar'] < 10**high_sm\n",
    "\n",
    "sm_mask_dc2 = rescaled_ssfr_dc2['rescaled_mstar'] >= 10**low_sm\n",
    "sm_mask_dc2 *= rescaled_ssfr_dc2['rescaled_mstar'] < 10**high_sm\n",
    "\n",
    "sm_mask_sdss = sdss['sm'] >= low_sm\n",
    "sm_mask_sdss *= sdss['sm'] < high_sm\n",
    "sm_mask_sdss *= sdss['z'] < sdss_completeness_redshift(low_sm)\n",
    "\n",
    "__=ax2.hist(protoDC2_z0['ssfr'][sm_mask_pdc2], normed=True, alpha=0.8, bins=ssfr_bins, \n",
    "          label=r'${\\rm protoDC2}$')\n",
    "__=ax2.hist(sdss['ssfr'][sm_mask_sdss], normed=True, alpha=0.8, bins=ssfr_bins, \n",
    "          label=r'${\\rm SDSS}$')\n",
    "__=ax2.hist(rescaled_ssfr_dc2['remapped_ssfr'][sm_mask_dc2], normed=True, alpha=0.8, bins=ssfr_bins, \n",
    "           label=r'${\\rm DC2}$')\n",
    "title2 = ax2.set_title(r'$10 < \\log M_{\\ast}/M_{\\odot} < 10.5$')\n",
    "__=ax2.xaxis.set_ticklabels('') \n",
    "\n",
    "# #  lower-left panel\n",
    "low_sm, high_sm = 10.5, 11\n",
    "sm_mask_pdc2 = protoDC2_z0['totalMassStellar'] >= 10**low_sm\n",
    "sm_mask_pdc2 *= protoDC2_z0['totalMassStellar'] < 10**high_sm\n",
    "\n",
    "sm_mask_dc2 = rescaled_ssfr_dc2['rescaled_mstar'] >= 10**low_sm\n",
    "sm_mask_dc2 *= rescaled_ssfr_dc2['rescaled_mstar'] < 10**high_sm\n",
    "\n",
    "sm_mask_sdss = sdss['sm'] >= low_sm\n",
    "sm_mask_sdss *= sdss['sm'] < high_sm\n",
    "sm_mask_sdss *= sdss['z'] < sdss_completeness_redshift(low_sm)\n",
    "\n",
    "__=ax3.hist(protoDC2_z0['ssfr'][sm_mask_pdc2], normed=True, alpha=0.8, bins=ssfr_bins, \n",
    "          label=r'${\\rm protoDC2}$')\n",
    "__=ax3.hist(sdss['ssfr'][sm_mask_sdss], normed=True, alpha=0.8, bins=ssfr_bins, \n",
    "          label=r'${\\rm SDSS}$')\n",
    "__=ax3.hist(rescaled_ssfr_dc2['remapped_ssfr'][sm_mask_dc2], normed=True, alpha=0.8, bins=ssfr_bins, \n",
    "           label=r'${\\rm DC2}$')\n",
    "title3 = ax3.set_title(r'$10.5 < \\log M_{\\ast}/M_{\\odot} < 11$')\n",
    "__=ax3.xaxis.set_ticklabels('') \n",
    "\n",
    "# #  lower-right panel\n",
    "low_sm, high_sm = 11, 11.5\n",
    "sm_mask_pdc2 = protoDC2_z0['totalMassStellar'] >= 10**low_sm\n",
    "sm_mask_pdc2 *= protoDC2_z0['totalMassStellar'] < 10**high_sm\n",
    "\n",
    "sm_mask_dc2 = rescaled_ssfr_dc2['rescaled_mstar'] >= 10**low_sm\n",
    "sm_mask_dc2 *= rescaled_ssfr_dc2['rescaled_mstar'] < 10**high_sm\n",
    "\n",
    "sm_mask_sdss = sdss['sm'] >= low_sm\n",
    "sm_mask_sdss *= sdss['sm'] < high_sm\n",
    "sm_mask_sdss *= sdss['z'] < sdss_completeness_redshift(low_sm)\n",
    "\n",
    "__=ax4.hist(protoDC2_z0['ssfr'][sm_mask_pdc2], normed=True, alpha=0.8, bins=ssfr_bins, \n",
    "          label=r'${\\rm protoDC2}$')\n",
    "__=ax4.hist(sdss['ssfr'][sm_mask_sdss], normed=True, alpha=0.8, bins=ssfr_bins, \n",
    "          label=r'${\\rm SDSS}$')\n",
    "__=ax4.hist(rescaled_ssfr_dc2['remapped_ssfr'][sm_mask_dc2], normed=True, alpha=0.8, bins=ssfr_bins, \n",
    "           label=r'${\\rm DC2}$')\n",
    "title4 = ax4.set_title(r'$11 < \\log M_{\\ast}/M_{\\odot} < 11.5$')\n",
    "__=ax4.xaxis.set_ticklabels('') \n",
    "\n",
    "for ax in (ax1, ax2, ax3, ax4):\n",
    "    ylim = ax.set_ylim(0, 1.25)\n",
    "    \n",
    "leg = ax1.legend()\n",
    "\n",
    "xlabel3 = ax3.set_xlabel(r'$\\log {\\rm sSFR}$')\n",
    "xlabel4 = ax4.set_xlabel(r'$\\log {\\rm sSFR}$')\n",
    "ylable1 = ax1.set_ylabel(r'${\\rm PDF}$')\n",
    "ylabel3 = ax3.set_ylabel(r'${\\rm PDF}$')\n",
    "\n",
    "figname = 'ssfr_distribution_dc2_vs_sdss.pdf'\n",
    "fig.savefig(figname, bbox_extra_artists=[xlabel3, ylabel3], bbox_inches='tight')"
   ]
  },
  {
   "cell_type": "code",
   "execution_count": null,
   "metadata": {},
   "outputs": [],
   "source": []
  }
 ],
 "metadata": {
  "kernelspec": {
   "display_name": "Python [conda root]",
   "language": "python",
   "name": "conda-root-py"
  },
  "language_info": {
   "codemirror_mode": {
    "name": "ipython",
    "version": 2
   },
   "file_extension": ".py",
   "mimetype": "text/x-python",
   "name": "python",
   "nbconvert_exporter": "python",
   "pygments_lexer": "ipython2",
   "version": "2.7.14"
  }
 },
 "nbformat": 4,
 "nbformat_minor": 2
}
