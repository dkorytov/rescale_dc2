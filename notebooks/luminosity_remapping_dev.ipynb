{
 "cells": [
  {
   "cell_type": "code",
   "execution_count": 1,
   "metadata": {},
   "outputs": [],
   "source": [
    "%matplotlib inline"
   ]
  },
  {
   "cell_type": "code",
   "execution_count": 12,
   "metadata": {},
   "outputs": [],
   "source": [
    "from astropy.table import Table\n",
    "\n",
    "fname = \"/Users/aphearin/Dropbox/protoDC2/value_added_protoDC2_snapnum_487.hdf5\"\n",
    "protoDC2_z0 = Table.read(fname, path='data')\n",
    "    \n",
    "from rescale_dc2.load_catalogs import load_closest_available_umachine_catalog\n",
    "umachine_z0 = load_closest_available_umachine_catalog(0.)\n",
    "\n",
    "from rescale_dc2.load_catalogs import load_dc2_sdss\n",
    "sdss = load_dc2_sdss()"
   ]
  },
  {
   "cell_type": "code",
   "execution_count": 13,
   "metadata": {},
   "outputs": [],
   "source": [
    "from rescale_dc2.rescale_snapshot import rescale_stellar_mass\n",
    "rescaled_mstar_dc2 = rescale_stellar_mass(protoDC2_z0, umachine_z0)"
   ]
  },
  {
   "cell_type": "code",
   "execution_count": 14,
   "metadata": {},
   "outputs": [],
   "source": [
    "from rescale_dc2.rescale_snapshot import rescale_ssfr\n",
    "rescaled_ssfr_dc2 = rescale_ssfr(rescaled_mstar_dc2, umachine_z0)"
   ]
  },
  {
   "cell_type": "code",
   "execution_count": 15,
   "metadata": {},
   "outputs": [],
   "source": [
    "from rescale_dc2.rescale_snapshot import assign_sdss_restframe_absolute_ugriz\n",
    "dc2_with_colors = assign_sdss_restframe_absolute_ugriz(rescaled_ssfr_dc2, sdss)"
   ]
  },
  {
   "cell_type": "code",
   "execution_count": null,
   "metadata": {},
   "outputs": [],
   "source": []
  },
  {
   "cell_type": "code",
   "execution_count": null,
   "metadata": {},
   "outputs": [],
   "source": []
  },
  {
   "cell_type": "code",
   "execution_count": null,
   "metadata": {},
   "outputs": [],
   "source": []
  },
  {
   "cell_type": "code",
   "execution_count": null,
   "metadata": {},
   "outputs": [],
   "source": []
  },
  {
   "cell_type": "code",
   "execution_count": null,
   "metadata": {},
   "outputs": [],
   "source": []
  },
  {
   "cell_type": "code",
   "execution_count": null,
   "metadata": {},
   "outputs": [],
   "source": []
  },
  {
   "cell_type": "code",
   "execution_count": null,
   "metadata": {},
   "outputs": [],
   "source": []
  }
 ],
 "metadata": {
  "kernelspec": {
   "display_name": "Python [conda root]",
   "language": "python",
   "name": "conda-root-py"
  },
  "language_info": {
   "codemirror_mode": {
    "name": "ipython",
    "version": 2
   },
   "file_extension": ".py",
   "mimetype": "text/x-python",
   "name": "python",
   "nbconvert_exporter": "python",
   "pygments_lexer": "ipython2",
   "version": "2.7.14"
  }
 },
 "nbformat": 4,
 "nbformat_minor": 2
}
