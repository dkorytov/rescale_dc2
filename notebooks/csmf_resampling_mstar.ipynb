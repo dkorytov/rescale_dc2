{
 "cells": [
  {
   "cell_type": "code",
   "execution_count": 1,
   "metadata": {},
   "outputs": [],
   "source": [
    "%matplotlib inline"
   ]
  },
  {
   "cell_type": "code",
   "execution_count": 2,
   "metadata": {},
   "outputs": [
    {
     "name": "stdout",
     "output_type": "stream",
     "text": [
      "['totalLuminositiesStellar:SDSS_r:observed', 'diskLuminositiesStellar:SDSS_r:observed', 'spheroidLuminositiesStellar:SDSS_r:observed', 'totalLuminositiesStellar:SDSS_g:observed', 'diskLuminositiesStellar:SDSS_g:observed', 'spheroidLuminositiesStellar:SDSS_g:observed', 'infallHaloMass', 'hostHaloMass', 'hostIndex', 'isCentral', 'spheroidMassStellar', 'totalMassStellar', 'galaxyID', 'x', 'y', 'z', 'vx', 'vy', 'vz', 'totalStarFormationRate', 'mstar_percentile_fixed_infallHaloMass']\n"
     ]
    }
   ],
   "source": [
    "import os\n",
    "dirname = \"/Users/aphearin/Dropbox/protoDC2\"\n",
    "sdss_basename = \"volume_complete_sdss.hdf5\"\n",
    "umachine_z0_basename = \"value_added_umachine_sfr_catalog_1.002310.hdf5\"\n",
    "umachine_z1_basename = \"value_added_umachine_sfr_catalog_0.501122.hdf5\"\n",
    "protoDC2_basename = \"value_added_protoDC2_snapnum_487.hdf5\"\n",
    "\n",
    "from astropy.table import Table\n",
    "sdss = Table.read(os.path.join(dirname, sdss_basename), path='data')\n",
    "protoDC2_z0 = Table.read(os.path.join(dirname, protoDC2_basename), path='data')\n",
    "\n",
    "from rescale_dc2.load_catalogs import load_closest_available_umachine_catalog\n",
    "umachine_z0 = load_closest_available_umachine_catalog(0.)\n",
    "umachine_z1 = load_closest_available_umachine_catalog(1.)\n",
    "\n",
    "print(protoDC2_z0.keys())"
   ]
  },
  {
   "cell_type": "code",
   "execution_count": 3,
   "metadata": {},
   "outputs": [
    {
     "name": "stdout",
     "output_type": "stream",
     "text": [
      "['id', 'x', 'y', 'z', 'vx', 'vy', 'vz', 'obs_sm', 'obs_sfr', 'mpeak', 'mvir', 'vmax', 'vmax_at_mpeak', 'upid', 'hostid', 'host_halo_is_in_catalog', 'host_halo_mvir', 'host_halo_vmax', 'obs_ssfr']\n"
     ]
    }
   ],
   "source": [
    "print(umachine_z0.keys())"
   ]
  },
  {
   "cell_type": "code",
   "execution_count": 4,
   "metadata": {},
   "outputs": [
    {
     "data": {
      "image/png": "[encoded data removed]",
      "text/plain": [
       "<matplotlib.figure.Figure at 0x135d86290>"
      ]
     },
     "metadata": {},
     "output_type": "display_data"
    }
   ],
   "source": [
    "fig, ax = plt.subplots(1, 1)\n",
    "\n",
    "__=ax.hist(np.log10(umachine_z0['host_halo_mvir']), bins=50, normed=True, alpha=0.8)\n",
    "__=ax.hist(np.log10(protoDC2_z0['hostHaloMass']), bins=50, normed=True, alpha=0.8)"
   ]
  },
  {
   "cell_type": "code",
   "execution_count": 21,
   "metadata": {},
   "outputs": [],
   "source": [
    "from galsampler import halo_bin_indices\n",
    "mhost_bins = np.logspace(10, 14.75, 25)\n",
    "protoDC2_z0['host_mass_bin'] = halo_bin_indices(\n",
    "    mass=(protoDC2_z0['hostHaloMass'], mhost_bins))\n",
    "umachine_z0['host_mass_bin'] = halo_bin_indices(\n",
    "    mass=(umachine_z0['host_halo_mvir'], mhost_bins))\n",
    "\n",
    "from galsampler import matching_bin_dictionary\n",
    "\n",
    "nmin = 50\n",
    "bin_shapes = mhost_bins.shape\n",
    "cenmask = umachine_z0['upid'] == -1\n",
    "central_bin_correspondence = matching_bin_dictionary(\n",
    "    umachine_z0['host_mass_bin'][cenmask], nmin, bin_shapes)\n",
    "satellite_bin_correspondence = matching_bin_dictionary(\n",
    "    umachine_z0['host_mass_bin'][~cenmask], nmin, bin_shapes)"
   ]
  },
  {
   "cell_type": "code",
   "execution_count": 30,
   "metadata": {},
   "outputs": [],
   "source": [
    "ibin = 8\n",
    "\n",
    "pdc2_cenmask = protoDC2_z0['isCentral']==True\n",
    "pdc2_ibin_mask = protoDC2_z0['host_mass_bin'] == ibin\n",
    "\n",
    "um_cenmask = umachine_z0['upid']==-1\n",
    "um_ibin_cenmask = umachine_z0['host_mass_bin']==central_bin_correspondence[ibin]\n",
    "um_ibin_satmask = umachine_z0['host_mass_bin']==satellite_bin_correspondence[ibin]\n",
    "\n",
    "\n",
    "num_cens_pdc2 = np.count_nonzero(pdc2_cenmask & pdc2_ibin_mask)\n",
    "num_sats_pdc2 = np.count_nonzero(~pdc2_cenmask & pdc2_ibin_mask)\n",
    "\n",
    "from halotools.empirical_models import conditional_abunmatch\n",
    "\n",
    "remapped_central_mstar_ibin = conditional_abunmatch(\n",
    "    protoDC2_z0['totalMassStellar'][pdc2_cenmask & pdc2_ibin_mask], \n",
    "    umachine_z0['obs_sm'][um_cenmask & um_ibin_cenmask])\n",
    "\n",
    "remapped_satellite_mstar_ibin = conditional_abunmatch(\n",
    "    protoDC2_z0['totalMassStellar'][~pdc2_cenmask & pdc2_ibin_mask], \n",
    "    umachine_z0['obs_sm'][~um_cenmask & um_ibin_satmask])\n",
    "\n"
   ]
  },
  {
   "cell_type": "code",
   "execution_count": null,
   "metadata": {},
   "outputs": [],
   "source": []
  },
  {
   "cell_type": "code",
   "execution_count": null,
   "metadata": {},
   "outputs": [],
   "source": []
  },
  {
   "cell_type": "code",
   "execution_count": null,
   "metadata": {},
   "outputs": [],
   "source": []
  },
  {
   "cell_type": "code",
   "execution_count": null,
   "metadata": {},
   "outputs": [],
   "source": []
  },
  {
   "cell_type": "code",
   "execution_count": null,
   "metadata": {},
   "outputs": [],
   "source": []
  },
  {
   "cell_type": "code",
   "execution_count": null,
   "metadata": {},
   "outputs": [],
   "source": []
  }
 ],
 "metadata": {
  "kernelspec": {
   "display_name": "Python [conda root]",
   "language": "python",
   "name": "conda-root-py"
  },
  "language_info": {
   "codemirror_mode": {
    "name": "ipython",
    "version": 2
   },
   "file_extension": ".py",
   "mimetype": "text/x-python",
   "name": "python",
   "nbconvert_exporter": "python",
   "pygments_lexer": "ipython2",
   "version": "2.7.14"
  }
 },
 "nbformat": 4,
 "nbformat_minor": 2
}
