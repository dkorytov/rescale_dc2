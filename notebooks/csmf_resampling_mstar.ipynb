{
 "cells": [
  {
   "cell_type": "code",
   "execution_count": 1,
   "metadata": {},
   "outputs": [],
   "source": [
    "%matplotlib inline"
   ]
  },
  {
   "cell_type": "code",
   "execution_count": 2,
   "metadata": {},
   "outputs": [
    {
     "name": "stdout",
     "output_type": "stream",
     "text": [
      "['totalLuminositiesStellar:SDSS_r:observed', 'diskLuminositiesStellar:SDSS_r:observed', 'spheroidLuminositiesStellar:SDSS_r:observed', 'totalLuminositiesStellar:SDSS_g:observed', 'diskLuminositiesStellar:SDSS_g:observed', 'spheroidLuminositiesStellar:SDSS_g:observed', 'infallHaloMass', 'hostHaloMass', 'hostIndex', 'isCentral', 'spheroidMassStellar', 'totalMassStellar', 'galaxyID', 'x', 'y', 'z', 'vx', 'vy', 'vz', 'totalStarFormationRate', 'mstar_percentile_fixed_infallHaloMass']\n"
     ]
    }
   ],
   "source": [
    "import os\n",
    "dirname = \"/Users/aphearin/Dropbox/protoDC2\"\n",
    "\n",
    "from astropy.table import Table\n",
    "\n",
    "sdss_basename = \"volume_complete_sdss.hdf5\"\n",
    "sdss = Table.read(os.path.join(dirname, sdss_basename), path='data')\n",
    "\n",
    "protoDC2_basename = \"value_added_protoDC2_snapnum_487.hdf5\"\n",
    "protoDC2_z0 = Table.read(os.path.join(dirname, protoDC2_basename), path='data')\n",
    "\n",
    "from rescale_dc2.load_catalogs import load_closest_available_umachine_catalog\n",
    "umachine_z0 = load_closest_available_umachine_catalog(0.)\n",
    "\n",
    "print(protoDC2_z0.keys())"
   ]
  },
  {
   "cell_type": "code",
   "execution_count": 3,
   "metadata": {},
   "outputs": [
    {
     "name": "stdout",
     "output_type": "stream",
     "text": [
      "['id', 'x', 'y', 'z', 'vx', 'vy', 'vz', 'obs_sm', 'obs_sfr', 'mpeak', 'mvir', 'vmax', 'vmax_at_mpeak', 'upid', 'hostid', 'host_halo_is_in_catalog', 'host_halo_mvir', 'host_halo_vmax', 'obs_ssfr']\n"
     ]
    }
   ],
   "source": [
    "print(umachine_z0.keys())"
   ]
  },
  {
   "cell_type": "code",
   "execution_count": 4,
   "metadata": {},
   "outputs": [],
   "source": [
    "from rescale_dc2.csmf_resampling import source_target_bin_indices\n",
    "\n",
    "source_galaxy_host_mass = umachine_z0['host_halo_mvir']\n",
    "target_galaxy_host_mass = protoDC2_z0['hostHaloMass']\n",
    "\n",
    "source_galaxy_is_central = umachine_z0['upid'] == -1\n",
    "target_galaxy_is_central = protoDC2_z0['isCentral'].astype(bool)\n",
    "\n",
    "host_mass_bin_edges = np.logspace(10, 14.75, 25)\n",
    "\n",
    "umachine_z0['host_mass_bin'], protoDC2_z0['host_mass_bin'] = source_target_bin_indices(\n",
    "    source_galaxy_host_mass, target_galaxy_host_mass,\n",
    "    source_galaxy_is_central, target_galaxy_is_central, host_mass_bin_edges)"
   ]
  },
  {
   "cell_type": "code",
   "execution_count": 5,
   "metadata": {},
   "outputs": [],
   "source": [
    "from rescale_dc2 import rescale_stellar_mass_to_match_unnormalized_source_csmf"
   ]
  },
  {
   "cell_type": "code",
   "execution_count": 6,
   "metadata": {},
   "outputs": [],
   "source": [
    "source_galaxy_stellar_mass = umachine_z0['obs_sm']\n",
    "target_galaxy_property = protoDC2_z0['totalMassStellar']\n",
    "target_galaxy_property = protoDC2_z0['infallHaloMass']\n",
    "\n",
    "source_bin_numbers = umachine_z0['host_mass_bin']\n",
    "target_bin_numbers = protoDC2_z0['host_mass_bin']\n",
    "\n",
    "protoDC2_z0['rescaled_mstar'] = rescale_stellar_mass_to_match_unnormalized_source_csmf(\n",
    "            source_galaxy_stellar_mass, target_galaxy_property,\n",
    "            source_galaxy_is_central, target_galaxy_is_central,\n",
    "            source_bin_numbers, target_bin_numbers)"
   ]
  },
  {
   "cell_type": "markdown",
   "metadata": {},
   "source": [
    "### Normalized CSMF comparison\n",
    "\n",
    "This shows that the code is working as expected"
   ]
  },
  {
   "cell_type": "code",
   "execution_count": null,
   "metadata": {},
   "outputs": [
    {
     "data": {
      "image/png": "[encoded data removed]",
      "text/plain": [
       "<matplotlib.figure.Figure at 0x1181c5c90>"
      ]
     },
     "metadata": {},
     "output_type": "display_data"
    }
   ],
   "source": [
    "fig, ax = plt.subplots(1, 1)\n",
    "\n",
    "logsm_bins=np.linspace(9, 12, 50)\n",
    "\n",
    "__=ax.hist(np.log10(umachine_z0['obs_sm']), bins=logsm_bins, normed=True, \n",
    "          alpha=0.8, label=r'${\\rm UniverseMachine}$')\n",
    "\n",
    "__=ax.hist(np.log10(protoDC2_z0['rescaled_mstar']), bins=logsm_bins, normed=True, \n",
    "          alpha=0.8, label=r'${\\rm DC2}$')\n",
    "\n",
    "legend = ax.legend()"
   ]
  },
  {
   "cell_type": "markdown",
   "metadata": {},
   "source": [
    "### Satellite fraction\n",
    "\n",
    "The disagreement is due to the baseline HOD being discrepant"
   ]
  },
  {
   "cell_type": "code",
   "execution_count": null,
   "metadata": {},
   "outputs": [],
   "source": [
    "from scipy.stats import binned_statistic\n",
    "\n",
    "logsm_bins=np.linspace(9, 12, 50)\n",
    "logsm_mids = 0.5*(logsm_bins[:-1] + logsm_bins[1:])\n",
    "\n",
    "fsat_um, __, __ = binned_statistic(\n",
    "    np.log10(umachine_z0['obs_sm']), umachine_z0['upid']!=-1,\n",
    "    statistic='mean', bins=logsm_bins)\n",
    "fsat_dc2, __, __ = binned_statistic(\n",
    "    np.log10(protoDC2_z0['rescaled_mstar']), protoDC2_z0['isCentral']==0, \n",
    "    statistic='mean', bins=logsm_bins)\n",
    "fsat_pdc2, __, __ = binned_statistic(\n",
    "    np.log10(protoDC2_z0['totalMassStellar']), protoDC2_z0['isCentral']==0, \n",
    "    statistic='mean', bins=logsm_bins)\n",
    "\n",
    "fig, ax = plt.subplots(1, 1)\n",
    "\n",
    "__=ax.plot(logsm_mids, fsat_um, label=r'${\\rm UniverseMachine}$')\n",
    "__=ax.plot(logsm_mids, fsat_dc2, label=r'${\\rm DC2}$')\n",
    "__=ax.plot(logsm_mids, fsat_pdc2, '--', label=r'${\\rm proto}$-${\\rm DC2}$')\n",
    "\n",
    "legend = ax.legend()"
   ]
  },
  {
   "cell_type": "code",
   "execution_count": null,
   "metadata": {},
   "outputs": [],
   "source": []
  },
  {
   "cell_type": "code",
   "execution_count": null,
   "metadata": {},
   "outputs": [],
   "source": []
  }
 ],
 "metadata": {
  "kernelspec": {
   "display_name": "Python [conda root]",
   "language": "python",
   "name": "conda-root-py"
  },
  "language_info": {
   "codemirror_mode": {
    "name": "ipython",
    "version": 2
   },
   "file_extension": ".py",
   "mimetype": "text/x-python",
   "name": "python",
   "nbconvert_exporter": "python",
   "pygments_lexer": "ipython2",
   "version": "2.7.14"
  }
 },
 "nbformat": 4,
 "nbformat_minor": 2
}
