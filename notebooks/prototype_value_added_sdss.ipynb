{
 "cells": [
  {
   "cell_type": "code",
   "execution_count": 1,
   "metadata": {},
   "outputs": [],
   "source": [
    "%matplotlib inline"
   ]
  },
  {
   "cell_type": "markdown",
   "metadata": {},
   "source": [
    "### Load Meert+15 catalog"
   ]
  },
  {
   "cell_type": "code",
   "execution_count": 2,
   "metadata": {},
   "outputs": [
    {
     "name": "stdout",
     "output_type": "stream",
     "text": [
      "['objid', 'z', 'ra', 'dec', 'kcorr', 'bulge_to_total_rband', 'r50_magr_kpc', 'r50_magr_disk_kpc', 'r50_magr_bulge_kpc']\n"
     ]
    }
   ],
   "source": [
    "from rescale_dc2.load_catalogs import read_meert_catalog\n",
    "meert15 = read_meert_catalog()\n",
    "print(meert15.keys())"
   ]
  },
  {
   "cell_type": "markdown",
   "metadata": {},
   "source": [
    "### Load 5-band flux catalog"
   ]
  },
  {
   "cell_type": "code",
   "execution_count": 3,
   "metadata": {},
   "outputs": [
    {
     "name": "stdout",
     "output_type": "stream",
     "text": [
      "['specObjID', 'objID', 'ra', 'dec', 'z', 'modelMag_u', 'modelMag_g', 'modelMag_r', 'modelMag_i', 'modelMag_z', 'extinction_u', 'extinction_g', 'extinction_r', 'extinction_i', 'extinction_z']\n"
     ]
    }
   ],
   "source": [
    "import numpy as np \n",
    "from astropy.table import Table\n",
    "import os\n",
    "dirname = \"/Users/aphearin/work/SDSS/dr7_five_fluxes\"\n",
    "basename1 = \"MyTable_1a_aphearin.csv\"\n",
    "fname1 = os.path.join(dirname, basename1)\n",
    "\n",
    "dr7 = Table.read(fname1, format='csv')\n",
    "dr7.sort('objID')\n",
    "\n",
    "unique_vals, indices = np.unique(dr7['objID'], return_index=True)\n",
    "\n",
    "dr7 = dr7[indices]\n",
    "\n",
    "dr7 = dr7[dr7['z']>0.01]\n",
    "print(dr7.keys())"
   ]
  },
  {
   "cell_type": "markdown",
   "metadata": {},
   "source": [
    "### Add Meert+15 keys to 5-band flux catalog by crossmatching on `objID`"
   ]
  },
  {
   "cell_type": "code",
   "execution_count": 4,
   "metadata": {},
   "outputs": [],
   "source": [
    "from halotools.utils import crossmatch \n",
    "\n",
    "idxA, idxB = crossmatch(dr7['objID'], meert15['objid'])\n",
    "\n",
    "meert_keys_to_inherit = ('kcorr', 'bulge_to_total_rband', 'r50_magr_kpc', \n",
    "                  'r50_magr_disk_kpc', 'r50_magr_bulge_kpc')\n",
    "\n",
    "for key in meert_keys_to_inherit:\n",
    "    dr7[key] = np.nan\n",
    "    dr7[key][idxA] = meert15[key][idxB]"
   ]
  },
  {
   "cell_type": "markdown",
   "metadata": {},
   "source": [
    "### Load DR10 volume-limited catalog with $M_{\\ast}$ and ${\\rm sSFR}$"
   ]
  },
  {
   "cell_type": "code",
   "execution_count": 5,
   "metadata": {},
   "outputs": [],
   "source": [
    "dirname = \"/Users/aphearin/work/sdss/cross_matched_catalogs\"\n",
    "basename = \"umachine_sdss_dr10_value_added_bt_corrected_dr7_objID.hdf5\"\n",
    "dr10_fname = os.path.join(dirname, basename)\n",
    "\n",
    "dr10 = Table.read(dr10_fname, path='data')"
   ]
  },
  {
   "cell_type": "markdown",
   "metadata": {},
   "source": [
    "Compute luminosity distance"
   ]
  },
  {
   "cell_type": "code",
   "execution_count": null,
   "metadata": {},
   "outputs": [],
   "source": [
    "from colossus.cosmology import cosmology\n",
    "cosmo = cosmology.setCosmology('planck15')\n",
    "dr10['lum_dist'] = cosmo.luminosityDistance(dr10['z'])/cosmo.h"
   ]
  },
  {
   "cell_type": "markdown",
   "metadata": {},
   "source": [
    "### Add Meert+15 keys and 5-band flux keys from dr7 to dr10"
   ]
  },
  {
   "cell_type": "code",
   "execution_count": null,
   "metadata": {},
   "outputs": [],
   "source": [
    "bands = ('u', 'g', 'r', 'i', 'z')\n",
    "keys = ['extinction_'+band for band in bands]\n",
    "modelMag_keys = ['modelMag_'+band for band in bands]\n",
    "keys.extend(modelMag_keys)\n",
    "keys.extend(meert_keys_to_inherit)\n",
    "\n",
    "idxA, idxB = crossmatch(dr10['dr7_objID'], dr7['objID'])\n",
    "\n",
    "for key in keys:\n",
    "    dr10[key] = np.nan\n",
    "    dr10[key][idxA] = dr7[key][idxB]"
   ]
  },
  {
   "cell_type": "markdown",
   "metadata": {},
   "source": [
    "Delete unnecessary columns"
   ]
  },
  {
   "cell_type": "code",
   "execution_count": null,
   "metadata": {},
   "outputs": [],
   "source": [
    "keys_to_delete = ('bptclass', 'specsfr', 'sm_fib', 'sfr_fib', 'specsfr_fib', 'withinr', \n",
    "                 'eligiblehost', 'eligiblehost2', 'd4000_sub', 'd4000_n_sub', 'logM_mendel13', \n",
    "                 'pps_mendel13', 'type_mendel13', 'deltaBD_mendel13', 'logMB_mendel13', \n",
    "                 'logMD_mendel13', 'd4000_n')\n",
    "for key in keys_to_delete:\n",
    "    del dr10[key]\n",
    "print(dr10.keys())"
   ]
  },
  {
   "cell_type": "markdown",
   "metadata": {},
   "source": [
    "Calculate absolute magnitudes including k-correction and extinction"
   ]
  },
  {
   "cell_type": "code",
   "execution_count": null,
   "metadata": {},
   "outputs": [],
   "source": [
    "dr10['AbsMagu'] = (dr10['modelMag_u'] - 5.0*np.log10(dr10['lum_dist']/1e-5) \n",
    "                   - dr10['extinction_u'] - dr10['kcorr'])\n",
    "\n",
    "dr10['AbsMagg'] = (dr10['modelMag_g'] - 5.0*np.log10(dr10['lum_dist']/1e-5) \n",
    "                   - dr10['extinction_g'] - dr10['kcorr'])\n",
    "\n",
    "dr10['AbsMagr'] = (dr10['modelMag_r'] - 5.0*np.log10(dr10['lum_dist']/1e-5) \n",
    "                   - dr10['extinction_r'] - dr10['kcorr'])\n",
    "\n",
    "dr10['AbsMagi'] = (dr10['modelMag_i'] - 5.0*np.log10(dr10['lum_dist']/1e-5) \n",
    "                   - dr10['extinction_i'] - dr10['kcorr'])\n",
    "\n",
    "dr10['AbsMagz'] = (dr10['modelMag_z'] - 5.0*np.log10(dr10['lum_dist']/1e-5) \n",
    "                   - dr10['extinction_z'] - dr10['kcorr'])\n"
   ]
  },
  {
   "cell_type": "markdown",
   "metadata": {},
   "source": [
    "Apply completeness cut and measurement-quality cut"
   ]
  },
  {
   "cell_type": "code",
   "execution_count": null,
   "metadata": {},
   "outputs": [],
   "source": [
    "completeness_table_dirname = \"/Users/aphearin/Dropbox/UniverseMachine/data/sdss\"\n",
    "completeness_table = np.loadtxt(os.path.join(completeness_table_dirname, 'completeness.dat'))\n",
    "\n",
    "z_limit = np.interp(dr10['sm'],\n",
    "        completeness_table[:, 0], completeness_table[:, 1])\n",
    "is_complete = (dr10['z'] < z_limit)\n",
    "\n",
    "# nan_mask = np.ones(len(dr10), dtype=bool)\n",
    "nan_mask = np.isnan(dr10['AbsMagr'])\n",
    "\n",
    "cross_matched_catalog = dr10[is_complete & ~nan_mask]"
   ]
  },
  {
   "cell_type": "code",
   "execution_count": null,
   "metadata": {},
   "outputs": [],
   "source": []
  }
 ],
 "metadata": {
  "kernelspec": {
   "display_name": "Python [conda root]",
   "language": "python",
   "name": "conda-root-py"
  },
  "language_info": {
   "codemirror_mode": {
    "name": "ipython",
    "version": 2
   },
   "file_extension": ".py",
   "mimetype": "text/x-python",
   "name": "python",
   "nbconvert_exporter": "python",
   "pygments_lexer": "ipython2",
   "version": "2.7.14"
  }
 },
 "nbformat": 4,
 "nbformat_minor": 2
}
