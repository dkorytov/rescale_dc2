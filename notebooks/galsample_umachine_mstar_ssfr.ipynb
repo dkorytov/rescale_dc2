{
 "cells": [
  {
   "cell_type": "code",
   "execution_count": 1,
   "metadata": {},
   "outputs": [],
   "source": [
    "%matplotlib inline"
   ]
  },
  {
   "cell_type": "code",
   "execution_count": 2,
   "metadata": {},
   "outputs": [
    {
     "name": "stdout",
     "output_type": "stream",
     "text": [
      "['magnitude:SDSS_u:rest', 'magnitude:SDSS_g:rest', 'magnitude:SDSS_r:rest', 'magnitude:SDSS_i:rest', 'magnitude:SDSS_z:rest', 'infallHaloMass', 'hostHaloMass', 'hostIndex', 'isCentral', 'spheroidMassStellar', 'totalMassStellar', 'galaxyID', 'x', 'y', 'z', 'vx', 'vy', 'vz', 'totalStarFormationRate', 'totalStarFormationRate_percentile_fixed_totalMassStellar']\n",
      "\n",
      "\n",
      "['id', 'x', 'y', 'z', 'vx', 'vy', 'vz', 'obs_sm', 'obs_sfr', 'mpeak', 'mvir', 'vmax', 'vmax_at_mpeak', 'upid', 'hostid', 'host_halo_is_in_catalog', 'host_halo_mvir', 'host_halo_vmax', 'host_halo_x', 'host_halo_y', 'host_halo_z', 'host_halo_vx', 'host_halo_vy', 'host_halo_vz', 'obs_ssfr', 'host_centric_x', 'host_centric_y', 'host_centric_z', 'host_centric_vx', 'host_centric_vy', 'host_centric_vz']\n"
     ]
    }
   ],
   "source": [
    "import os\n",
    "dirname = \"/Users/aphearin/Dropbox/protoDC2\"\n",
    "sdss_basename = \"volume_complete_sdss.hdf5\"\n",
    "umachine_z0_basename = \"value_added_umachine_sfr_catalog_1.002310.hdf5\"\n",
    "protoDC2_basename = \"value_added_protoDC2_snapnum_487.hdf5\"\n",
    "\n",
    "from astropy.table import Table\n",
    "sdss = Table.read(os.path.join(dirname, sdss_basename), path='data')\n",
    "protoDC2_z0 = Table.read(os.path.join(dirname, protoDC2_basename), path='data')\n",
    "\n",
    "pdc2_cenmask = protoDC2_z0['isCentral'] == 1\n",
    "\n",
    "from rescale_dc2.load_catalogs import load_closest_available_umachine_catalog\n",
    "umachine_z0 = load_closest_available_umachine_catalog(0.)\n",
    "um_cenmask = umachine_z0['upid'] == -1\n",
    "\n",
    "print(protoDC2_z0.keys())\n",
    "print(\"\\n\")\n",
    "print(umachine_z0.keys())"
   ]
  },
  {
   "cell_type": "code",
   "execution_count": 3,
   "metadata": {},
   "outputs": [
    {
     "data": {
      "image/png": "[encoded data removed]",
      "text/plain": [
       "<matplotlib.figure.Figure at 0x12e091050>"
      ]
     },
     "metadata": {},
     "output_type": "display_data"
    }
   ],
   "source": [
    "fig, ax = plt.subplots(1, 1)\n",
    "\n",
    "log_mhost_bins = np.linspace(10, 15, 50)\n",
    "\n",
    "__=ax.hist(np.log10(protoDC2_z0['hostHaloMass'][pdc2_cenmask]), bins=log_mhost_bins, \n",
    "          normed=True, alpha=0.8, color='orange')\n",
    "__=ax.hist(np.log10(umachine_z0['host_halo_mvir'][um_cenmask]), bins=log_mhost_bins, \n",
    "          normed=True, alpha=0.8, color='green')"
   ]
  },
  {
   "cell_type": "code",
   "execution_count": 4,
   "metadata": {},
   "outputs": [
    {
     "name": "stdout",
     "output_type": "stream",
     "text": [
      "['host_halo_id', 'source_host_halo_id', 'source_galaxy_id', 'mstar', 'ssfr', 'host_centric_x', 'host_centric_y', 'host_centric_z', 'host_centric_vx', 'host_centric_vy', 'host_centric_vz']\n"
     ]
    }
   ],
   "source": [
    "from galsampler import halo_bin_indices\n",
    "\n",
    "protoDC2_z0['bin_number'] = halo_bin_indices(\n",
    "    logmass=(np.log10(protoDC2_z0['hostHaloMass']), log_mhost_bins))\n",
    "umachine_z0['bin_number'] = halo_bin_indices(\n",
    "    logmass=(np.log10(umachine_z0['host_halo_mvir']), log_mhost_bins))\n",
    "\n",
    "from galsampler import source_galaxy_selection_indices\n",
    "\n",
    "source_galaxies_host_halo_id = umachine_z0['hostid']\n",
    "source_halos_bin_number = umachine_z0['bin_number'][um_cenmask]\n",
    "source_halos_halo_id = umachine_z0['id'][um_cenmask]\n",
    "target_halos_bin_number = protoDC2_z0['bin_number'][pdc2_cenmask]\n",
    "target_halo_ids = protoDC2_z0['hostIndex'][pdc2_cenmask]\n",
    "nhalo_min = 25\n",
    "\n",
    "result = source_galaxy_selection_indices(source_galaxies_host_halo_id,\n",
    "            source_halos_bin_number, source_halos_halo_id,\n",
    "            target_halos_bin_number, target_halo_ids, nhalo_min, log_mhost_bins)\n",
    "\n",
    "selection_indices, target_galaxy_target_halo_ids, target_galaxy_source_halo_ids = result\n",
    "\n",
    "ngals_target = len(selection_indices)\n",
    "\n",
    "from astropy.table import Table\n",
    "dc2 = Table()\n",
    "\n",
    "dc2['host_halo_id'] = target_galaxy_target_halo_ids\n",
    "dc2['source_host_halo_id'] = target_galaxy_source_halo_ids\n",
    "\n",
    "dc2['source_galaxy_id'] = umachine_z0['id'][selection_indices]\n",
    "dc2['mstar'] = umachine_z0['obs_sm'][selection_indices]\n",
    "dc2['ssfr'] = umachine_z0['obs_ssfr'][selection_indices]\n",
    "\n",
    "posvel_keys = ('x', 'y', 'z', 'vx', 'vy', 'vz')\n",
    "for key in posvel_keys:\n",
    "    dc2['host_centric_'+key] = umachine_z0['host_centric_'+key][selection_indices]\n",
    "\n",
    "print(dc2.keys())"
   ]
  },
  {
   "cell_type": "code",
   "execution_count": 5,
   "metadata": {},
   "outputs": [],
   "source": [
    "from halotools.utils import crossmatch \n",
    "\n",
    "idxA, idxB = crossmatch(dc2['host_halo_id'], protoDC2_z0['hostIndex'][pdc2_cenmask])\n",
    "\n",
    "posvel_keys = ('x', 'y', 'z', 'vx', 'vy', 'vz')\n",
    "for key in posvel_keys:\n",
    "    dc2['host_'+key] = 0.\n",
    "    dc2['host_'+key][idxA] = protoDC2_z0[key][idxB]\n",
    "\n",
    "    dc2[key] = dc2['host_'+key] + dc2['host_centric_'+key]\n"
   ]
  },
  {
   "cell_type": "code",
   "execution_count": 6,
   "metadata": {},
   "outputs": [],
   "source": [
    "from halotools.empirical_models import enforce_periodicity_of_box\n",
    "\n",
    "for key in ('x', 'y', 'z'):\n",
    "    dc2[key], dc2['v'+key] = enforce_periodicity_of_box(dc2[key], 256., velocity=dc2['v'+key])"
   ]
  },
  {
   "cell_type": "code",
   "execution_count": null,
   "metadata": {},
   "outputs": [],
   "source": []
  }
 ],
 "metadata": {
  "kernelspec": {
   "display_name": "Python [conda root]",
   "language": "python",
   "name": "conda-root-py"
  },
  "language_info": {
   "codemirror_mode": {
    "name": "ipython",
    "version": 2
   },
   "file_extension": ".py",
   "mimetype": "text/x-python",
   "name": "python",
   "nbconvert_exporter": "python",
   "pygments_lexer": "ipython2",
   "version": "2.7.14"
  }
 },
 "nbformat": 4,
 "nbformat_minor": 2
}
