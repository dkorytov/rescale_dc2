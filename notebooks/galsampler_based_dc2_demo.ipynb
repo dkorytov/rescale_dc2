{
 "cells": [
  {
   "cell_type": "code",
   "execution_count": 1,
   "metadata": {},
   "outputs": [],
   "source": [
    "%matplotlib inline"
   ]
  },
  {
   "cell_type": "code",
   "execution_count": 7,
   "metadata": {},
   "outputs": [],
   "source": [
    "from astropy.table import Table\n",
    "\n",
    "from rescale_dc2.load_umachine_mocks import list_available_bpl_fnames\n",
    "bpl_halos = Table.read(list_available_bpl_fnames()[-1], path='data')\n",
    "\n",
    "from rescale_dc2.load_umachine_mocks import list_available_umachine_fnames\n",
    "umachine = Table.read(list_available_umachine_fnames()[-1], path='data')\n",
    "\n",
    "from rescale_dc2.load_halos import list_available_protoDC2_fof_fnames\n",
    "from rescale_dc2.load_halos import load_protoDC2_fof_halos\n",
    "pdc2_halos = load_protoDC2_fof_halos(list_available_protoDC2_fof_fnames()[-1])"
   ]
  },
  {
   "cell_type": "code",
   "execution_count": 8,
   "metadata": {},
   "outputs": [],
   "source": [
    "from rescale_dc2.nearest_umachine_halo_selection import source_halo_selection_indices\n",
    "\n",
    "halo_selection_indices = source_halo_selection_indices(\n",
    "        bpl_halos['log10_cumulative_nd_mvir'],\n",
    "        pdc2_halos['log10_cumulative_nd_mvir'])\n",
    "\n",
    "from rescale_dc2.nearest_umachine_halo_selection import value_add_matched_target_halos\n",
    "\n",
    "pdc2_halos = value_add_matched_target_halos(bpl_halos, pdc2_halos, halo_selection_indices)"
   ]
  },
  {
   "cell_type": "code",
   "execution_count": 4,
   "metadata": {},
   "outputs": [],
   "source": [
    "from rescale_dc2.nearest_umachine_halo_selection import source_galaxy_selection_indices\n",
    "\n",
    "galaxy_selection_indices = source_galaxy_selection_indices(\n",
    "    pdc2_halos, halo_selection_indices)\n",
    "\n",
    "from rescale_dc2.nearest_umachine_halo_selection import create_galsampled_dc2\n",
    "\n",
    "dc2 = create_galsampled_dc2(umachine, pdc2_halos,\n",
    "        halo_selection_indices, galaxy_selection_indices)\n"
   ]
  },
  {
   "cell_type": "code",
   "execution_count": 51,
   "metadata": {},
   "outputs": [
    {
     "name": "stdout",
     "output_type": "stream",
     "text": [
      "['id', 'x', 'y', 'z', 'vx', 'vy', 'vz', 'obs_sm', 'obs_sfr', 'mpeak', 'mvir', 'vmax', 'vmax_at_mpeak', 'upid', 'hostid', 'has_matching_host', 'host_halo_x', 'host_halo_y', 'host_halo_z', 'host_halo_vx', 'host_halo_vy', 'host_halo_vz', 'host_halo_mvir', 'host_centric_x', 'host_centric_y', 'host_centric_z', 'host_centric_vx', 'host_centric_vy', 'host_centric_vz', 'obs_ssfr', 'sfr_percentile_fixed_sm']\n"
     ]
    }
   ],
   "source": [
    "print(umachine.keys())"
   ]
  },
  {
   "cell_type": "code",
   "execution_count": null,
   "metadata": {},
   "outputs": [],
   "source": []
  },
  {
   "cell_type": "code",
   "execution_count": 16,
   "metadata": {},
   "outputs": [],
   "source": [
    "um_mask = umachine['obs_sm'] > 10**10.5\n",
    "dc2_mask = dc2['obs_sm'] > 10**10.5\n",
    "\n",
    "from halotools.mock_observables import return_xyz_formatted_array, tpcf\n",
    "\n",
    "rbins = np.logspace(-1, 1.35, 25)\n",
    "rmids = 10**(0.5*(np.log10(rbins[:-1]) + np.log10(rbins[1:])))\n",
    "\n",
    "pos_um = return_xyz_formatted_array(umachine['x'], umachine['y'], umachine['z'], period=250, \n",
    "                                   mask = um_mask)\n",
    "pos_dc2 = return_xyz_formatted_array(dc2['x'], dc2['y'], dc2['z'], period=256, \n",
    "                                    mask = dc2_mask)\n",
    "\n",
    "xi_um = tpcf(pos_um, rbins, period=250)\n",
    "xi_dc2 = tpcf(pos_dc2, rbins, period=250)"
   ]
  },
  {
   "cell_type": "code",
   "execution_count": 17,
   "metadata": {},
   "outputs": [
    {
     "data": {
      "image/png": "[encoded data removed]",
      "text/plain": [
       "<matplotlib.figure.Figure at 0x113125b10>"
      ]
     },
     "metadata": {},
     "output_type": "display_data"
    }
   ],
   "source": [
    "fig, ax = plt.subplots(1, 1)\n",
    "\n",
    "__=ax.loglog()\n",
    "\n",
    "__=ax.plot(rmids, xi_um, color='blue')\n",
    "__=ax.plot(rmids, xi_dc2, color='red')\n"
   ]
  },
  {
   "cell_type": "code",
   "execution_count": 18,
   "metadata": {},
   "outputs": [
    {
     "data": {
      "text/plain": [
       "array([ 1.59668592,  1.52592135,  1.52188171,  1.5370585 ,  1.51424291,\n",
       "        1.41015245,  1.31224016,  1.31431838,  1.18707072,  1.10088514,\n",
       "        0.93772397,  0.80652221,  0.71816057,  0.7478215 ,  0.7886847 ,\n",
       "        0.8626126 ,  0.88212812,  0.90956802,  0.87905395,  0.87766809,\n",
       "        0.9141577 ,  0.94735838,  0.96497095,  0.98690302])"
      ]
     },
     "execution_count": 18,
     "metadata": {},
     "output_type": "execute_result"
    }
   ],
   "source": [
    "xi_dc2/xi_um"
   ]
  },
  {
   "cell_type": "code",
   "execution_count": 37,
   "metadata": {},
   "outputs": [],
   "source": [
    "from halotools.mock_observables import hod_from_mock\n",
    "\n",
    "haloprop_bins = np.logspace(10, 14.75, 40)\n",
    "haloprop_mids = 0.5*(haloprop_bins[:-1] + haloprop_bins[1:])\n",
    "mask = umachine['obs_sm'] > 10**10.5\n",
    "haloprop_galaxies = umachine['host_halo_mvir']\n",
    "haloprop_halos = bpl_halos['mvir']\n",
    "\n",
    "mean_ngal, __ = hod_from_mock(haloprop_galaxies[mask], haloprop_halos, haloprop_bins)\n",
    "\n",
    "cenmask = mask * (umachine['upid'] == -1)\n",
    "mean_ncen, __ = hod_from_mock(haloprop_galaxies[cenmask], haloprop_halos, haloprop_bins)\n",
    "\n",
    "satmask = mask * (umachine['upid'] != -1)\n",
    "mean_nsat, __ = hod_from_mock(haloprop_galaxies[satmask], haloprop_halos, haloprop_bins)\n"
   ]
  },
  {
   "cell_type": "code",
   "execution_count": 46,
   "metadata": {},
   "outputs": [
    {
     "name": "stdout",
     "output_type": "stream",
     "text": [
      "['id', 'x', 'y', 'z', 'vx', 'vy', 'vz', 'obs_sm', 'obs_sfr', 'mpeak', 'mvir', 'vmax', 'vmax_at_mpeak', 'upid', 'hostid', 'has_matching_host', 'host_halo_x', 'host_halo_y', 'host_halo_z', 'host_halo_vx', 'host_halo_vy', 'host_halo_vz', 'host_halo_mvir', 'host_centric_x', 'host_centric_y', 'host_centric_z', 'host_centric_vx', 'host_centric_vy', 'host_centric_vz', 'obs_ssfr', 'sfr_percentile_fixed_sm']\n"
     ]
    }
   ],
   "source": [
    "print(umachine.keys())"
   ]
  },
  {
   "cell_type": "code",
   "execution_count": 44,
   "metadata": {},
   "outputs": [],
   "source": [
    "mask = dc2['obs_sm'] > 10**10.5\n",
    "haloprop_galaxies = dc2['host_halo_mvir']\n",
    "haloprop_halos = pdc2_halos['matching_mvir']\n",
    "\n",
    "mean_ngal_dc2, __ = hod_from_mock(haloprop_galaxies[mask], haloprop_halos, haloprop_bins)\n",
    "\n",
    "cenmask = mask * (dc2['upid'] == -1)\n",
    "mean_ncen_dc2, __ = hod_from_mock(haloprop_galaxies[cenmask], haloprop_halos, haloprop_bins)\n",
    "\n",
    "satmask = mask * (dc2['upid'] != -1)\n",
    "mean_nsat_dc2, __ = hod_from_mock(haloprop_galaxies[satmask], haloprop_halos, haloprop_bins)\n",
    "\n"
   ]
  },
  {
   "cell_type": "code",
   "execution_count": 47,
   "metadata": {},
   "outputs": [
    {
     "data": {
      "image/png": "[encoded data removed]",
      "text/plain": [
       "<matplotlib.figure.Figure at 0x12971e1d0>"
      ]
     },
     "metadata": {},
     "output_type": "display_data"
    }
   ],
   "source": [
    "fig, ax = plt.subplots(1, 1)\n",
    "\n",
    "# __=ax.loglog(haloprop_mids, mean_ngal)\n",
    "# __=ax.loglog(haloprop_mids, mean_ngal_dc2, '--')\n",
    "# __=ax.loglog(haloprop_mids, mean_nsat)\n",
    "# __=ax.loglog(haloprop_mids, mean_nsat_dc2)\n",
    "# __=ax.loglog(haloprop_mids, mean_ncen)\n",
    "# __=ax.loglog(haloprop_mids, mean_ncen_dc2)\n",
    "\n"
   ]
  },
  {
   "cell_type": "code",
   "execution_count": 49,
   "metadata": {},
   "outputs": [],
   "source": [
    "from rescale_dc2.load_catalogs import load_dc2_sdss\n",
    "sdss = load_dc2_sdss()"
   ]
  },
  {
   "cell_type": "code",
   "execution_count": 50,
   "metadata": {},
   "outputs": [
    {
     "name": "stdout",
     "output_type": "stream",
     "text": [
      "['ra', 'dec', 'z', 'sm', 'sfr', 'sm_complete', 'd4000', 'has_match', 'dr7_objID', 'ssfr', 'lum_dist', 'extinction_u', 'extinction_g', 'extinction_r', 'extinction_i', 'extinction_z', 'modelMag_u', 'modelMag_g', 'modelMag_r', 'modelMag_i', 'modelMag_z', 'kcorr', 'bulge_to_total_rband', 'r50_magr_kpc', 'r50_magr_disk_kpc', 'r50_magr_bulge_kpc', 'AbsMagu', 'AbsMagg', 'AbsMagr', 'AbsMagi', 'AbsMagz', 'percentile', 'ssfr_percentile_at_fixed_sm']\n"
     ]
    }
   ],
   "source": [
    "print(sdss.keys())"
   ]
  },
  {
   "cell_type": "code",
   "execution_count": null,
   "metadata": {},
   "outputs": [],
   "source": []
  }
 ],
 "metadata": {
  "kernelspec": {
   "display_name": "Python [conda root]",
   "language": "python",
   "name": "conda-root-py"
  },
  "language_info": {
   "codemirror_mode": {
    "name": "ipython",
    "version": 2
   },
   "file_extension": ".py",
   "mimetype": "text/x-python",
   "name": "python",
   "nbconvert_exporter": "python",
   "pygments_lexer": "ipython2",
   "version": "2.7.14"
  }
 },
 "nbformat": 4,
 "nbformat_minor": 2
}
