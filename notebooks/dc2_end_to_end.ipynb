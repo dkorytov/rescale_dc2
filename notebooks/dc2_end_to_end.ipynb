{
 "cells": [
  {
   "cell_type": "code",
   "execution_count": 1,
   "metadata": {},
   "outputs": [],
   "source": [
    "%matplotlib inline"
   ]
  },
  {
   "cell_type": "code",
   "execution_count": 2,
   "metadata": {},
   "outputs": [],
   "source": [
    "from rescale_dc2.load_halos import load_protoDC2_fof_halos\n",
    "from rescale_dc2.load_halos import list_available_protoDC2_fof_fnames\n",
    "\n",
    "fname = list_available_protoDC2_fof_fnames()[-1]\n",
    "pdc2_halos = load_protoDC2_fof_halos(fname)"
   ]
  },
  {
   "cell_type": "code",
   "execution_count": 3,
   "metadata": {},
   "outputs": [],
   "source": [
    "from rescale_dc2.load_halos import load_bolshoi_planck_halos\n",
    "from rescale_dc2.load_halos import list_available_bpl_halo_fnames\n",
    "\n",
    "fname = list_available_bpl_halo_fnames()[-1]\n",
    "rockstar_halos = load_bolshoi_planck_halos(fname)"
   ]
  },
  {
   "cell_type": "code",
   "execution_count": 4,
   "metadata": {},
   "outputs": [],
   "source": [
    "from rescale_dc2.load_umachine_mocks import load_umachine_and_value_added_halos\n",
    "from rescale_dc2.load_umachine_mocks import list_available_umachine_fnames\n",
    "fname = list_available_umachine_fnames()[-1]\n",
    "\n",
    "umachine, bpl_halos = load_umachine_and_value_added_halos(fname, rockstar_halos)"
   ]
  },
  {
   "cell_type": "code",
   "execution_count": 5,
   "metadata": {},
   "outputs": [],
   "source": [
    "from rescale_dc2.nearest_umachine_halo_selection import source_halo_selection_indices\n",
    "\n",
    "halo_selection_indices = source_halo_selection_indices(\n",
    "    bpl_halos['log10_cumulative_nd_mvir'], \n",
    "    pdc2_halos['log10_cumulative_nd_mvir'])"
   ]
  },
  {
   "cell_type": "code",
   "execution_count": 6,
   "metadata": {},
   "outputs": [],
   "source": [
    "from rescale_dc2.nearest_umachine_halo_selection import value_add_matched_target_halos\n",
    "pdc2_halos = value_add_matched_target_halos(bpl_halos, pdc2_halos, halo_selection_indices)\n"
   ]
  },
  {
   "cell_type": "code",
   "execution_count": 7,
   "metadata": {},
   "outputs": [],
   "source": [
    "from rescale_dc2.nearest_umachine_halo_selection import source_galaxy_selection_indices\n",
    "galaxy_selection_indices = source_galaxy_selection_indices(\n",
    "    pdc2_halos, halo_selection_indices)"
   ]
  },
  {
   "cell_type": "code",
   "execution_count": 8,
   "metadata": {},
   "outputs": [],
   "source": [
    "from rescale_dc2.nearest_umachine_halo_selection import create_galsampled_dc2\n",
    "\n",
    "dc2 = create_galsampled_dc2(umachine, pdc2_halos, \n",
    "                            halo_selection_indices, galaxy_selection_indices)"
   ]
  },
  {
   "cell_type": "code",
   "execution_count": null,
   "metadata": {},
   "outputs": [],
   "source": []
  },
  {
   "cell_type": "code",
   "execution_count": null,
   "metadata": {},
   "outputs": [],
   "source": []
  },
  {
   "cell_type": "code",
   "execution_count": null,
   "metadata": {},
   "outputs": [],
   "source": []
  },
  {
   "cell_type": "code",
   "execution_count": null,
   "metadata": {},
   "outputs": [],
   "source": []
  },
  {
   "cell_type": "code",
   "execution_count": null,
   "metadata": {},
   "outputs": [],
   "source": []
  }
 ],
 "metadata": {
  "kernelspec": {
   "display_name": "Python [conda root]",
   "language": "python",
   "name": "conda-root-py"
  },
  "language_info": {
   "codemirror_mode": {
    "name": "ipython",
    "version": 2
   },
   "file_extension": ".py",
   "mimetype": "text/x-python",
   "name": "python",
   "nbconvert_exporter": "python",
   "pygments_lexer": "ipython2",
   "version": "2.7.14"
  }
 },
 "nbformat": 4,
 "nbformat_minor": 2
}
